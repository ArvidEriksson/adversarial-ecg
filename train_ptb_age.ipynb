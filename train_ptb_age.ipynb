{
 "cells": [
  {
   "cell_type": "code",
   "execution_count": 1,
   "metadata": {
    "id": "JkjZfvuKHd6q"
   },
   "outputs": [],
   "source": [
    "# Import\n",
    "import os\n",
    "from dataloader import BatchDataloader\n",
    "import torch\n",
    "import torch.nn as nn\n",
    "import numpy as np\n",
    "from tqdm.notebook import trange, tqdm\n",
    "import h5py\n",
    "from torch.utils.data import TensorDataset, random_split, DataLoader\n",
    "import pandas as pd\n",
    "import matplotlib.pyplot as plt\n",
    "from sklearn.metrics import mean_squared_error, mean_absolute_error\n",
    "from utils import pgd_attack, train_loop, eval_loop, train_loop_apgd, eval_loop_apgd\n",
    "import utils\n",
    "import ecg_plot\n",
    "from models import ResNet1d, ResNet1dGELU\n",
    "import ast\n",
    "%matplotlib inline"
   ]
  },
  {
   "cell_type": "code",
   "execution_count": 2,
   "metadata": {},
   "outputs": [
    {
     "name": "stdout",
     "output_type": "stream",
     "text": [
      "Use device: cuda\n",
      "\n"
     ]
    }
   ],
   "source": [
    "# Set device\n",
    "device = torch.device('cuda' if torch.cuda.is_available() else 'cpu')\n",
    "tqdm.write(\"Use device: {device:}\\n\".format(device=device))"
   ]
  },
  {
   "cell_type": "code",
   "execution_count": 3,
   "metadata": {},
   "outputs": [],
   "source": [
    "batch_size = 32"
   ]
  },
  {
   "cell_type": "code",
   "execution_count": 16,
   "metadata": {},
   "outputs": [
    {
     "name": "stdout",
     "output_type": "stream",
     "text": [
      "[ 56.  19.  37.  24.  18.  54.  48.  55.  22.  20.  43.  58.  17.  49.\n",
      "  41.  25.  40.  60.  42.  28.  45.  51.  23.  59.  35.  30.  29.  26.\n",
      "  44.  31.  62.  21.  38.  27.  47.  46.  50.  64.  39. 300.  33.  57.\n",
      "  68.  67.  52.  74.  81.  82.  70.  36.  85.  77.  73.  72.  61.  66.\n",
      "  34.  53.  32.  84.  78.  83.  75.  79.  69.  63.  80.  87.  76.  71.\n",
      "  65.  86.  88.  16.  89.   3.  12.  14.  15.   9.  11.  13.  10.   8.\n",
      "   2.   5.   4.   6.   7.]\n",
      "2.0\n",
      "300.0\n",
      "89.0\n",
      "64\n",
      "838\n",
      "2105\n",
      "7193\n",
      "9137\n",
      "2100\n",
      "21799\n"
     ]
    }
   ],
   "source": [
    "# Load the data\n",
    "dataset_path = '../ptb-xl'\n",
    "\n",
    "path_to_csv, path_to_scp = dataset_path + '/ptbxl_database.csv', dataset_path + '/scp_statements.csv'\n",
    "path_to_train, path_to_val, path_to_test = dataset_path + '/train.h5', dataset_path + '/val.h5', dataset_path + '/test.h5'\n",
    "\n",
    "# Get labels\n",
    "df = pd.read_csv(path_to_csv, index_col='ecg_id')\n",
    "# Find how many unique ages there are, sorted\n",
    "print(df['age'].unique())\n",
    "\n",
    "# Print lowest age\n",
    "print(df['age'].min())\n",
    "\n",
    "# Print highest age\n",
    "print(df['age'].max())\n",
    "\n",
    "# Print second highest age\n",
    "print(df['age'].sort_values().unique()[-2])\n",
    "\n",
    "# Print how many there are of the following age groups 2-15 16-25, 26-40, 41-60, 61-80, 81-100\n",
    "print(df[(df['age'] >= 2) & (df['age'] <= 15)].shape[0])\n",
    "print(df[(df['age'] >= 18) & (df['age'] <= 25)].shape[0])\n",
    "print(df[(df['age'] >= 26) & (df['age'] <= 40)].shape[0])\n",
    "print(df[(df['age'] >= 41) & (df['age'] <= 60)].shape[0])\n",
    "print(df[(df['age'] >= 61) & (df['age'] <= 80)].shape[0])\n",
    "print(df[(df['age'] >= 81) & (df['age'] <= 100)].shape[0])\n",
    "\n",
    "# print total number of samples\n",
    "print(df.shape[0])\n",
    "\n",
    "df = df[df['age'] != 300]\n",
    "df.scp_codes = df.scp_codes.apply(lambda x: ast.literal_eval(x))\n",
    "\n",
    "# Load scp_statements.csv for diagnostic aggregation\n",
    "agg_df = pd.read_csv(path_to_scp, index_col=0)\n",
    "agg_df = agg_df[agg_df.diagnostic == 1]\n",
    "\n",
    "def has_key(dic, key_str):\n",
    "    for key in dic.keys():\n",
    "        if key == key_str:\n",
    "            return 1\n",
    "    return 0\n",
    "\n",
    "# Apply diagnostic superclass\n",
    "df['AF'] = df.scp_codes.apply(lambda x: has_key(x, 'AFIB'))\n",
    "\n",
    "validation_fold = 9\n",
    "test_fold = 10\n",
    "\n",
    "# Load labels\n",
    "train = df[(df.strat_fold != validation_fold) & (df.strat_fold != test_fold)]\n",
    "val = df[df.strat_fold == validation_fold]\n",
    "test = df[df.strat_fold == test_fold]\n",
    "\n",
    "# change this for other labels\n",
    "labels_train = train['age'].values\n",
    "labels_val = val['age'].values\n",
    "labels_test = test['age'].values\n",
    "\n",
    "# Make them torch tensors\n",
    "labels_train = torch.tensor(labels_train, dtype=torch.float32).reshape(-1,1)\n",
    "labels_val = torch.tensor(labels_val, dtype=torch.float32).reshape(-1,1)\n",
    "labels_test = torch.tensor(labels_test, dtype=torch.float32).reshape(-1,1)\n",
    "\n",
    "# Define traces\n",
    "traces_train = h5py.File(path_to_train, 'r')['tracings']\n",
    "traces_val = h5py.File(path_to_val, 'r')['tracings']\n",
    "traces_test = h5py.File(path_to_test, 'r')['tracings']\n",
    "\n",
    "# Define dataloaders\n",
    "train_dataloader = BatchDataloader(traces_train, labels_train, batch_size=batch_size)\n",
    "val_dataloader = BatchDataloader(traces_val, labels_val, batch_size=batch_size)\n",
    "test_dataloader = BatchDataloader(traces_test, labels_test, batch_size=batch_size)\n"
   ]
  },
  {
   "cell_type": "code",
   "execution_count": 5,
   "metadata": {
    "id": "3VNfdwn8IqQQ"
   },
   "outputs": [
    {
     "name": "stdout",
     "output_type": "stream",
     "text": [
      "[0.001      0.00154445 0.00238533 0.00368403 0.00568981 0.00878764\n",
      " 0.01357209 0.02096144 0.03237394 0.05      ]\n"
     ]
    }
   ],
   "source": [
    "# hyperparameters\n",
    "learning_rate = 1e-3\n",
    "weight_decay = 1e-2  \n",
    "num_epochs = 20\n",
    "adversarial_delay = 10 # Do not perform adversarial training until epoch x\n",
    "start_eps = 1e-3\n",
    "end_eps = 5e-2\n",
    "loss_function = nn.MSELoss()\n",
    "\n",
    "# for exponential schedule\n",
    "eps_values = np.exp(np.linspace(np.log(start_eps), np.log(end_eps), num_epochs - adversarial_delay))\n",
    "print(eps_values)"
   ]
  },
  {
   "cell_type": "code",
   "execution_count": 6,
   "metadata": {
    "editable": true,
    "slideshow": {
     "slide_type": ""
    },
    "tags": []
   },
   "outputs": [],
   "source": [
    "pretrained_model_path = \"models/code_model_10/latest.pth\"\n",
    "output_model_path = \"../models/age/ptb_20_apgd_5e-2\"\n",
    "os.makedirs(output_model_path, exist_ok=True)\n",
    "\n",
    "is_finetuning = False"
   ]
  },
  {
   "cell_type": "code",
   "execution_count": 7,
   "metadata": {
    "colab": {
     "base_uri": "https://localhost:8080/"
    },
    "id": "CQvRyaQcyvcM",
    "outputId": "6f0a25f4-da7d-44ef-ac3b-34ac3087db09"
   },
   "outputs": [
    {
     "data": {
      "text/plain": [
       "<torch._C.Generator at 0x7fa6a6ff68d0>"
      ]
     },
     "execution_count": 7,
     "metadata": {},
     "output_type": "execute_result"
    }
   ],
   "source": [
    "# set seed\n",
    "seed = 42\n",
    "np.random.seed(seed)\n",
    "torch.manual_seed(seed)"
   ]
  },
  {
   "cell_type": "code",
   "execution_count": 8,
   "metadata": {
    "editable": true,
    "id": "GMOKrUn9jfca",
    "slideshow": {
     "slide_type": ""
    },
    "tags": []
   },
   "outputs": [
    {
     "name": "stdout",
     "output_type": "stream",
     "text": [
      "Define model...\n",
      "Done!\n",
      "\n",
      "Training...\n"
     ]
    },
    {
     "data": {
      "application/vnd.jupyter.widget-view+json": {
       "model_id": "6c9d58b8669f4fea99106905e908aacc",
       "version_major": 2,
       "version_minor": 0
      },
      "text/plain": [
       "  0%|          | 0/20 [00:00<?, ?it/s]"
      ]
     },
     "metadata": {},
     "output_type": "display_data"
    },
    {
     "data": {
      "application/vnd.jupyter.widget-view+json": {
       "model_id": "efcd086030f946509ea24a563d64e419",
       "version_major": 2,
       "version_minor": 0
      },
      "text/plain": [
       "Training Epoch  1:   0%|          | 0/538 [00:00<?, ?it/s]"
      ]
     },
     "metadata": {},
     "output_type": "display_data"
    },
    {
     "data": {
      "application/vnd.jupyter.widget-view+json": {
       "model_id": "aa02f529432d4fc2b61b97ea3dc9a622",
       "version_major": 2,
       "version_minor": 0
      },
      "text/plain": [
       "Evaluation Epoch  1:   0%|          | 0/67 [00:00<?, ?it/s]"
      ]
     },
     "metadata": {},
     "output_type": "display_data"
    },
    {
     "data": {
      "application/vnd.jupyter.widget-view+json": {
       "model_id": "7422be5156bc4b20aa2dc78243269fc4",
       "version_major": 2,
       "version_minor": 0
      },
      "text/plain": [
       "Evaluation Epoch  1:   0%|          | 0/67 [00:00<?, ?it/s]"
      ]
     },
     "metadata": {},
     "output_type": "display_data"
    },
    {
     "name": "stdout",
     "output_type": "stream",
     "text": [
      "Epoch  1: \tTrain Loss 9.867885 \tValid Loss 5.966722 \tAdversarial Loss 62.837983 \tMSE 190.585648 \tMAE 10.920835 \tBest model -> saved\n"
     ]
    },
    {
     "data": {
      "application/vnd.jupyter.widget-view+json": {
       "model_id": "a3f78c7e20f843aebb92da5b3fd81855",
       "version_major": 2,
       "version_minor": 0
      },
      "text/plain": [
       "Training Epoch  2:   0%|          | 0/538 [00:00<?, ?it/s]"
      ]
     },
     "metadata": {},
     "output_type": "display_data"
    },
    {
     "data": {
      "application/vnd.jupyter.widget-view+json": {
       "model_id": "4b6d65f554ad46f1b3890fb957f7d355",
       "version_major": 2,
       "version_minor": 0
      },
      "text/plain": [
       "Evaluation Epoch  2:   0%|          | 0/67 [00:00<?, ?it/s]"
      ]
     },
     "metadata": {},
     "output_type": "display_data"
    },
    {
     "data": {
      "application/vnd.jupyter.widget-view+json": {
       "model_id": "6addf98fcad948f18ae1a45c4385c10f",
       "version_major": 2,
       "version_minor": 0
      },
      "text/plain": [
       "Evaluation Epoch  2:   0%|          | 0/67 [00:00<?, ?it/s]"
      ]
     },
     "metadata": {},
     "output_type": "display_data"
    },
    {
     "name": "stdout",
     "output_type": "stream",
     "text": [
      "Epoch  2: \tTrain Loss 5.932318 \tValid Loss 5.967323 \tAdversarial Loss 52.401055 \tMSE 190.707275 \tMAE 10.910583 \t\n"
     ]
    },
    {
     "data": {
      "application/vnd.jupyter.widget-view+json": {
       "model_id": "bcd0812f13af4683baa33d804439ca3a",
       "version_major": 2,
       "version_minor": 0
      },
      "text/plain": [
       "Training Epoch  3:   0%|          | 0/538 [00:00<?, ?it/s]"
      ]
     },
     "metadata": {},
     "output_type": "display_data"
    },
    {
     "data": {
      "application/vnd.jupyter.widget-view+json": {
       "model_id": "f543cdd708c046d7bbfb233da456d50e",
       "version_major": 2,
       "version_minor": 0
      },
      "text/plain": [
       "Evaluation Epoch  3:   0%|          | 0/67 [00:00<?, ?it/s]"
      ]
     },
     "metadata": {},
     "output_type": "display_data"
    },
    {
     "data": {
      "application/vnd.jupyter.widget-view+json": {
       "model_id": "a65679bc1fb54124bdfa5c9d25b657ba",
       "version_major": 2,
       "version_minor": 0
      },
      "text/plain": [
       "Evaluation Epoch  3:   0%|          | 0/67 [00:00<?, ?it/s]"
      ]
     },
     "metadata": {},
     "output_type": "display_data"
    },
    {
     "name": "stdout",
     "output_type": "stream",
     "text": [
      "Epoch  3: \tTrain Loss 5.463604 \tValid Loss 4.991749 \tAdversarial Loss 64.082398 \tMSE 159.559753 \tMAE 9.815435 \tBest model -> saved\n"
     ]
    },
    {
     "data": {
      "application/vnd.jupyter.widget-view+json": {
       "model_id": "72472465264948ac9b92f11e0dcee7aa",
       "version_major": 2,
       "version_minor": 0
      },
      "text/plain": [
       "Training Epoch  4:   0%|          | 0/538 [00:00<?, ?it/s]"
      ]
     },
     "metadata": {},
     "output_type": "display_data"
    },
    {
     "data": {
      "application/vnd.jupyter.widget-view+json": {
       "model_id": "c0e1601b233541b396eaad203ef58112",
       "version_major": 2,
       "version_minor": 0
      },
      "text/plain": [
       "Evaluation Epoch  4:   0%|          | 0/67 [00:00<?, ?it/s]"
      ]
     },
     "metadata": {},
     "output_type": "display_data"
    },
    {
     "data": {
      "application/vnd.jupyter.widget-view+json": {
       "model_id": "18c6dfeb7867449285e24c84be21eb80",
       "version_major": 2,
       "version_minor": 0
      },
      "text/plain": [
       "Evaluation Epoch  4:   0%|          | 0/67 [00:00<?, ?it/s]"
      ]
     },
     "metadata": {},
     "output_type": "display_data"
    },
    {
     "name": "stdout",
     "output_type": "stream",
     "text": [
      "Epoch  4: \tTrain Loss 5.156471 \tValid Loss 5.112621 \tAdversarial Loss 65.878037 \tMSE 163.422607 \tMAE 10.068139 \t\n"
     ]
    },
    {
     "data": {
      "application/vnd.jupyter.widget-view+json": {
       "model_id": "81800ed4afc04e06b680ce8e89391de8",
       "version_major": 2,
       "version_minor": 0
      },
      "text/plain": [
       "Training Epoch  5:   0%|          | 0/538 [00:00<?, ?it/s]"
      ]
     },
     "metadata": {},
     "output_type": "display_data"
    },
    {
     "data": {
      "application/vnd.jupyter.widget-view+json": {
       "model_id": "38be86ec45fe4f09ab3075330d138864",
       "version_major": 2,
       "version_minor": 0
      },
      "text/plain": [
       "Evaluation Epoch  5:   0%|          | 0/67 [00:00<?, ?it/s]"
      ]
     },
     "metadata": {},
     "output_type": "display_data"
    },
    {
     "data": {
      "application/vnd.jupyter.widget-view+json": {
       "model_id": "6b84667175c74b559b3e692947a3605e",
       "version_major": 2,
       "version_minor": 0
      },
      "text/plain": [
       "Evaluation Epoch  5:   0%|          | 0/67 [00:00<?, ?it/s]"
      ]
     },
     "metadata": {},
     "output_type": "display_data"
    },
    {
     "name": "stdout",
     "output_type": "stream",
     "text": [
      "Epoch  5: \tTrain Loss 5.071968 \tValid Loss 4.057592 \tAdversarial Loss 65.572792 \tMSE 129.711441 \tMAE 8.952026 \tBest model -> saved\n"
     ]
    },
    {
     "data": {
      "application/vnd.jupyter.widget-view+json": {
       "model_id": "0e69f63c15fc4d3caf378626dbbdea65",
       "version_major": 2,
       "version_minor": 0
      },
      "text/plain": [
       "Training Epoch  6:   0%|          | 0/538 [00:00<?, ?it/s]"
      ]
     },
     "metadata": {},
     "output_type": "display_data"
    },
    {
     "data": {
      "application/vnd.jupyter.widget-view+json": {
       "model_id": "dad15ea6cf2a4713af09f08fc64a9a0c",
       "version_major": 2,
       "version_minor": 0
      },
      "text/plain": [
       "Evaluation Epoch  6:   0%|          | 0/67 [00:00<?, ?it/s]"
      ]
     },
     "metadata": {},
     "output_type": "display_data"
    },
    {
     "data": {
      "application/vnd.jupyter.widget-view+json": {
       "model_id": "b021ce11a2aa4f3082991d29e4dd45e9",
       "version_major": 2,
       "version_minor": 0
      },
      "text/plain": [
       "Evaluation Epoch  6:   0%|          | 0/67 [00:00<?, ?it/s]"
      ]
     },
     "metadata": {},
     "output_type": "display_data"
    },
    {
     "name": "stdout",
     "output_type": "stream",
     "text": [
      "Epoch  6: \tTrain Loss 4.901353 \tValid Loss 4.398116 \tAdversarial Loss 77.501228 \tMSE 140.610275 \tMAE 9.324121 \t\n"
     ]
    },
    {
     "data": {
      "application/vnd.jupyter.widget-view+json": {
       "model_id": "95ff14fe5c4a44ec8679575f1c527e25",
       "version_major": 2,
       "version_minor": 0
      },
      "text/plain": [
       "Training Epoch  7:   0%|          | 0/538 [00:00<?, ?it/s]"
      ]
     },
     "metadata": {},
     "output_type": "display_data"
    },
    {
     "data": {
      "application/vnd.jupyter.widget-view+json": {
       "model_id": "408a8be149ef4ae8b83b70a93f9857bb",
       "version_major": 2,
       "version_minor": 0
      },
      "text/plain": [
       "Evaluation Epoch  7:   0%|          | 0/67 [00:00<?, ?it/s]"
      ]
     },
     "metadata": {},
     "output_type": "display_data"
    },
    {
     "data": {
      "application/vnd.jupyter.widget-view+json": {
       "model_id": "6f2cff830d6948c9bbf852689d6d5055",
       "version_major": 2,
       "version_minor": 0
      },
      "text/plain": [
       "Evaluation Epoch  7:   0%|          | 0/67 [00:00<?, ?it/s]"
      ]
     },
     "metadata": {},
     "output_type": "display_data"
    },
    {
     "name": "stdout",
     "output_type": "stream",
     "text": [
      "Epoch  7: \tTrain Loss 4.750861 \tValid Loss 4.372000 \tAdversarial Loss 78.542572 \tMSE 139.778214 \tMAE 9.153274 \t\n"
     ]
    },
    {
     "data": {
      "application/vnd.jupyter.widget-view+json": {
       "model_id": "a04c6466c7a04a62b6649023bb049fd8",
       "version_major": 2,
       "version_minor": 0
      },
      "text/plain": [
       "Training Epoch  8:   0%|          | 0/538 [00:00<?, ?it/s]"
      ]
     },
     "metadata": {},
     "output_type": "display_data"
    },
    {
     "data": {
      "application/vnd.jupyter.widget-view+json": {
       "model_id": "f813d12eb2654572b54f193be3681414",
       "version_major": 2,
       "version_minor": 0
      },
      "text/plain": [
       "Evaluation Epoch  8:   0%|          | 0/67 [00:00<?, ?it/s]"
      ]
     },
     "metadata": {},
     "output_type": "display_data"
    },
    {
     "data": {
      "application/vnd.jupyter.widget-view+json": {
       "model_id": "72891214731f4f458bd43457ddc2e27b",
       "version_major": 2,
       "version_minor": 0
      },
      "text/plain": [
       "Evaluation Epoch  8:   0%|          | 0/67 [00:00<?, ?it/s]"
      ]
     },
     "metadata": {},
     "output_type": "display_data"
    },
    {
     "name": "stdout",
     "output_type": "stream",
     "text": [
      "Epoch  8: \tTrain Loss 4.709502 \tValid Loss 4.221523 \tAdversarial Loss 83.057433 \tMSE 134.946609 \tMAE 9.072405 \t\n"
     ]
    },
    {
     "data": {
      "application/vnd.jupyter.widget-view+json": {
       "model_id": "17d6a73f4bf544b98dc8a4020c06575b",
       "version_major": 2,
       "version_minor": 0
      },
      "text/plain": [
       "Training Epoch  9:   0%|          | 0/538 [00:00<?, ?it/s]"
      ]
     },
     "metadata": {},
     "output_type": "display_data"
    },
    {
     "data": {
      "application/vnd.jupyter.widget-view+json": {
       "model_id": "3305c8a220d54a19b1e5bf1ffa0d376e",
       "version_major": 2,
       "version_minor": 0
      },
      "text/plain": [
       "Evaluation Epoch  9:   0%|          | 0/67 [00:00<?, ?it/s]"
      ]
     },
     "metadata": {},
     "output_type": "display_data"
    },
    {
     "data": {
      "application/vnd.jupyter.widget-view+json": {
       "model_id": "a98afa52568843ab9c35806b816025ea",
       "version_major": 2,
       "version_minor": 0
      },
      "text/plain": [
       "Evaluation Epoch  9:   0%|          | 0/67 [00:00<?, ?it/s]"
      ]
     },
     "metadata": {},
     "output_type": "display_data"
    },
    {
     "name": "stdout",
     "output_type": "stream",
     "text": [
      "Epoch  9: \tTrain Loss 4.579917 \tValid Loss 3.865063 \tAdversarial Loss 81.888600 \tMSE 123.561569 \tMAE 8.668256 \tBest model -> saved\n"
     ]
    },
    {
     "data": {
      "application/vnd.jupyter.widget-view+json": {
       "model_id": "bd8543af727d44fba9e76cbb6f405943",
       "version_major": 2,
       "version_minor": 0
      },
      "text/plain": [
       "Training Epoch 10:   0%|          | 0/538 [00:00<?, ?it/s]"
      ]
     },
     "metadata": {},
     "output_type": "display_data"
    },
    {
     "data": {
      "application/vnd.jupyter.widget-view+json": {
       "model_id": "1c380bf0d3af49579b0267e37dc690ee",
       "version_major": 2,
       "version_minor": 0
      },
      "text/plain": [
       "Evaluation Epoch 10:   0%|          | 0/67 [00:00<?, ?it/s]"
      ]
     },
     "metadata": {},
     "output_type": "display_data"
    },
    {
     "data": {
      "application/vnd.jupyter.widget-view+json": {
       "model_id": "bfcc9b604284488980111d90371d7bc9",
       "version_major": 2,
       "version_minor": 0
      },
      "text/plain": [
       "Evaluation Epoch 10:   0%|          | 0/67 [00:00<?, ?it/s]"
      ]
     },
     "metadata": {},
     "output_type": "display_data"
    },
    {
     "name": "stdout",
     "output_type": "stream",
     "text": [
      "Epoch 10: \tTrain Loss 4.511995 \tValid Loss 3.806651 \tAdversarial Loss 86.149114 \tMSE 121.691414 \tMAE 8.634106 \tBest model -> saved\n"
     ]
    },
    {
     "data": {
      "application/vnd.jupyter.widget-view+json": {
       "model_id": "ffbd12bd10224cb1ab781e42a25544ec",
       "version_major": 2,
       "version_minor": 0
      },
      "text/plain": [
       "Training Epoch 11:   0%|          | 0/538 [00:00<?, ?it/s]"
      ]
     },
     "metadata": {},
     "output_type": "display_data"
    },
    {
     "data": {
      "application/vnd.jupyter.widget-view+json": {
       "model_id": "e595f1d660e248ca9a94472ba4aba517",
       "version_major": 2,
       "version_minor": 0
      },
      "text/plain": [
       "Evaluation Epoch 11:   0%|          | 0/67 [00:00<?, ?it/s]"
      ]
     },
     "metadata": {},
     "output_type": "display_data"
    },
    {
     "data": {
      "application/vnd.jupyter.widget-view+json": {
       "model_id": "7eaf5ad9ea8349cc81f044f4b80cf9b2",
       "version_major": 2,
       "version_minor": 0
      },
      "text/plain": [
       "Evaluation Epoch 11:   0%|          | 0/67 [00:00<?, ?it/s]"
      ]
     },
     "metadata": {},
     "output_type": "display_data"
    },
    {
     "name": "stdout",
     "output_type": "stream",
     "text": [
      "Epoch 11: \tTrain Loss 4.711158 \tValid Loss 3.564317 \tAdversarial Loss 72.820796 \tMSE 113.928802 \tMAE 8.346811 \tBest model -> saved\n"
     ]
    },
    {
     "data": {
      "application/vnd.jupyter.widget-view+json": {
       "model_id": "572f077307744649bbd8f6c91161b98f",
       "version_major": 2,
       "version_minor": 0
      },
      "text/plain": [
       "Training Epoch 12:   0%|          | 0/538 [00:00<?, ?it/s]"
      ]
     },
     "metadata": {},
     "output_type": "display_data"
    },
    {
     "data": {
      "application/vnd.jupyter.widget-view+json": {
       "model_id": "a5130983f21f440a9a68e48500a74339",
       "version_major": 2,
       "version_minor": 0
      },
      "text/plain": [
       "Evaluation Epoch 12:   0%|          | 0/67 [00:00<?, ?it/s]"
      ]
     },
     "metadata": {},
     "output_type": "display_data"
    },
    {
     "data": {
      "application/vnd.jupyter.widget-view+json": {
       "model_id": "2f01a861c8934da9b2928abe31c01840",
       "version_major": 2,
       "version_minor": 0
      },
      "text/plain": [
       "Evaluation Epoch 12:   0%|          | 0/67 [00:00<?, ?it/s]"
      ]
     },
     "metadata": {},
     "output_type": "display_data"
    },
    {
     "name": "stdout",
     "output_type": "stream",
     "text": [
      "Epoch 12: \tTrain Loss 4.741777 \tValid Loss 3.700497 \tAdversarial Loss 67.196340 \tMSE 118.285034 \tMAE 8.470653 \t\n"
     ]
    },
    {
     "data": {
      "application/vnd.jupyter.widget-view+json": {
       "model_id": "a5bd9c76953344799a9176933fdf58d5",
       "version_major": 2,
       "version_minor": 0
      },
      "text/plain": [
       "Training Epoch 13:   0%|          | 0/538 [00:00<?, ?it/s]"
      ]
     },
     "metadata": {},
     "output_type": "display_data"
    },
    {
     "data": {
      "application/vnd.jupyter.widget-view+json": {
       "model_id": "c5f5a5cadc0c480681feaf340676c7dc",
       "version_major": 2,
       "version_minor": 0
      },
      "text/plain": [
       "Evaluation Epoch 13:   0%|          | 0/67 [00:00<?, ?it/s]"
      ]
     },
     "metadata": {},
     "output_type": "display_data"
    },
    {
     "data": {
      "application/vnd.jupyter.widget-view+json": {
       "model_id": "2a95dc77d6a84ee4822d8254da4c0e2a",
       "version_major": 2,
       "version_minor": 0
      },
      "text/plain": [
       "Evaluation Epoch 13:   0%|          | 0/67 [00:00<?, ?it/s]"
      ]
     },
     "metadata": {},
     "output_type": "display_data"
    },
    {
     "name": "stdout",
     "output_type": "stream",
     "text": [
      "Epoch 13: \tTrain Loss 4.910315 \tValid Loss 3.988007 \tAdversarial Loss 55.310709 \tMSE 127.471001 \tMAE 8.838469 \t\n"
     ]
    },
    {
     "data": {
      "application/vnd.jupyter.widget-view+json": {
       "model_id": "c5b74f93e3e54359aec5f7220b749482",
       "version_major": 2,
       "version_minor": 0
      },
      "text/plain": [
       "Training Epoch 14:   0%|          | 0/538 [00:00<?, ?it/s]"
      ]
     },
     "metadata": {},
     "output_type": "display_data"
    },
    {
     "data": {
      "application/vnd.jupyter.widget-view+json": {
       "model_id": "7631c463255947cb87b750a242f6cfee",
       "version_major": 2,
       "version_minor": 0
      },
      "text/plain": [
       "Evaluation Epoch 14:   0%|          | 0/67 [00:00<?, ?it/s]"
      ]
     },
     "metadata": {},
     "output_type": "display_data"
    },
    {
     "data": {
      "application/vnd.jupyter.widget-view+json": {
       "model_id": "023c3c7151924eaf8a8be83af29872b6",
       "version_major": 2,
       "version_minor": 0
      },
      "text/plain": [
       "Evaluation Epoch 14:   0%|          | 0/67 [00:00<?, ?it/s]"
      ]
     },
     "metadata": {},
     "output_type": "display_data"
    },
    {
     "name": "stdout",
     "output_type": "stream",
     "text": [
      "Epoch 14: \tTrain Loss 5.142440 \tValid Loss 4.162961 \tAdversarial Loss 44.987753 \tMSE 133.070755 \tMAE 9.023755 \t\n"
     ]
    },
    {
     "data": {
      "application/vnd.jupyter.widget-view+json": {
       "model_id": "3d3e29c4071f4bd1a48524578648aff4",
       "version_major": 2,
       "version_minor": 0
      },
      "text/plain": [
       "Training Epoch 15:   0%|          | 0/538 [00:00<?, ?it/s]"
      ]
     },
     "metadata": {},
     "output_type": "display_data"
    },
    {
     "data": {
      "application/vnd.jupyter.widget-view+json": {
       "model_id": "e3ec6f0609d5492799a4c218e0d4dc25",
       "version_major": 2,
       "version_minor": 0
      },
      "text/plain": [
       "Evaluation Epoch 15:   0%|          | 0/67 [00:00<?, ?it/s]"
      ]
     },
     "metadata": {},
     "output_type": "display_data"
    },
    {
     "data": {
      "application/vnd.jupyter.widget-view+json": {
       "model_id": "1b34106f72e34e0aabde8ee4559e248c",
       "version_major": 2,
       "version_minor": 0
      },
      "text/plain": [
       "Evaluation Epoch 15:   0%|          | 0/67 [00:00<?, ?it/s]"
      ]
     },
     "metadata": {},
     "output_type": "display_data"
    },
    {
     "name": "stdout",
     "output_type": "stream",
     "text": [
      "Epoch 15: \tTrain Loss 5.499563 \tValid Loss 4.101067 \tAdversarial Loss 29.253071 \tMSE 131.090622 \tMAE 8.982397 \t\n"
     ]
    },
    {
     "data": {
      "application/vnd.jupyter.widget-view+json": {
       "model_id": "097053293a2745b3a48c3c44102dfaba",
       "version_major": 2,
       "version_minor": 0
      },
      "text/plain": [
       "Training Epoch 16:   0%|          | 0/538 [00:00<?, ?it/s]"
      ]
     },
     "metadata": {},
     "output_type": "display_data"
    },
    {
     "data": {
      "application/vnd.jupyter.widget-view+json": {
       "model_id": "12e6c4605ef54afabe48e88f17253788",
       "version_major": 2,
       "version_minor": 0
      },
      "text/plain": [
       "Evaluation Epoch 16:   0%|          | 0/67 [00:00<?, ?it/s]"
      ]
     },
     "metadata": {},
     "output_type": "display_data"
    },
    {
     "data": {
      "application/vnd.jupyter.widget-view+json": {
       "model_id": "7062ad3b2931456699b0837d75bef706",
       "version_major": 2,
       "version_minor": 0
      },
      "text/plain": [
       "Evaluation Epoch 16:   0%|          | 0/67 [00:00<?, ?it/s]"
      ]
     },
     "metadata": {},
     "output_type": "display_data"
    },
    {
     "name": "stdout",
     "output_type": "stream",
     "text": [
      "Epoch 16: \tTrain Loss 5.818203 \tValid Loss 4.395418 \tAdversarial Loss 18.183354 \tMSE 140.503265 \tMAE 9.331929 \t\n"
     ]
    },
    {
     "data": {
      "application/vnd.jupyter.widget-view+json": {
       "model_id": "aec32825326c42ca8213d2267af34c6b",
       "version_major": 2,
       "version_minor": 0
      },
      "text/plain": [
       "Training Epoch 17:   0%|          | 0/538 [00:00<?, ?it/s]"
      ]
     },
     "metadata": {},
     "output_type": "display_data"
    },
    {
     "data": {
      "application/vnd.jupyter.widget-view+json": {
       "model_id": "307337f1b39f4e61ab89f138dd57245e",
       "version_major": 2,
       "version_minor": 0
      },
      "text/plain": [
       "Evaluation Epoch 17:   0%|          | 0/67 [00:00<?, ?it/s]"
      ]
     },
     "metadata": {},
     "output_type": "display_data"
    },
    {
     "data": {
      "application/vnd.jupyter.widget-view+json": {
       "model_id": "e7e5d7e8b56c4fd2a46f519d7a428ecc",
       "version_major": 2,
       "version_minor": 0
      },
      "text/plain": [
       "Evaluation Epoch 17:   0%|          | 0/67 [00:00<?, ?it/s]"
      ]
     },
     "metadata": {},
     "output_type": "display_data"
    },
    {
     "name": "stdout",
     "output_type": "stream",
     "text": [
      "Epoch 17: \tTrain Loss 6.170632 \tValid Loss 4.628279 \tAdversarial Loss 11.975945 \tMSE 147.935364 \tMAE 9.620542 \t\n"
     ]
    },
    {
     "data": {
      "application/vnd.jupyter.widget-view+json": {
       "model_id": "736612be7076416aba63918ea01b5188",
       "version_major": 2,
       "version_minor": 0
      },
      "text/plain": [
       "Training Epoch 18:   0%|          | 0/538 [00:00<?, ?it/s]"
      ]
     },
     "metadata": {},
     "output_type": "display_data"
    },
    {
     "data": {
      "application/vnd.jupyter.widget-view+json": {
       "model_id": "a7a408f6af694ec9b07cb0cb4ca61868",
       "version_major": 2,
       "version_minor": 0
      },
      "text/plain": [
       "Evaluation Epoch 18:   0%|          | 0/67 [00:00<?, ?it/s]"
      ]
     },
     "metadata": {},
     "output_type": "display_data"
    },
    {
     "data": {
      "application/vnd.jupyter.widget-view+json": {
       "model_id": "92b6ca54bca1417f855f18d7c89b29c7",
       "version_major": 2,
       "version_minor": 0
      },
      "text/plain": [
       "Evaluation Epoch 18:   0%|          | 0/67 [00:00<?, ?it/s]"
      ]
     },
     "metadata": {},
     "output_type": "display_data"
    },
    {
     "name": "stdout",
     "output_type": "stream",
     "text": [
      "Epoch 18: \tTrain Loss 6.508359 \tValid Loss 5.114929 \tAdversarial Loss 8.424649 \tMSE 163.489899 \tMAE 10.157649 \t\n"
     ]
    },
    {
     "data": {
      "application/vnd.jupyter.widget-view+json": {
       "model_id": "b765519b29fa4ea78fea63dfdfd1c541",
       "version_major": 2,
       "version_minor": 0
      },
      "text/plain": [
       "Training Epoch 19:   0%|          | 0/538 [00:00<?, ?it/s]"
      ]
     },
     "metadata": {},
     "output_type": "display_data"
    },
    {
     "data": {
      "application/vnd.jupyter.widget-view+json": {
       "model_id": "9ee464ef3e524923a4ac72add3b0c081",
       "version_major": 2,
       "version_minor": 0
      },
      "text/plain": [
       "Evaluation Epoch 19:   0%|          | 0/67 [00:00<?, ?it/s]"
      ]
     },
     "metadata": {},
     "output_type": "display_data"
    },
    {
     "data": {
      "application/vnd.jupyter.widget-view+json": {
       "model_id": "68b221b9bc624c56a384ea89622e4db8",
       "version_major": 2,
       "version_minor": 0
      },
      "text/plain": [
       "Evaluation Epoch 19:   0%|          | 0/67 [00:00<?, ?it/s]"
      ]
     },
     "metadata": {},
     "output_type": "display_data"
    },
    {
     "name": "stdout",
     "output_type": "stream",
     "text": [
      "Epoch 19: \tTrain Loss 6.927935 \tValid Loss 5.334675 \tAdversarial Loss 6.661360 \tMSE 170.534241 \tMAE 10.432183 \t\n"
     ]
    },
    {
     "data": {
      "application/vnd.jupyter.widget-view+json": {
       "model_id": "cf91539ea130416c92cefa33bd5de640",
       "version_major": 2,
       "version_minor": 0
      },
      "text/plain": [
       "Training Epoch 20:   0%|          | 0/538 [00:00<?, ?it/s]"
      ]
     },
     "metadata": {},
     "output_type": "display_data"
    },
    {
     "data": {
      "application/vnd.jupyter.widget-view+json": {
       "model_id": "5cb50af95dee458aa5cdae90d396cf32",
       "version_major": 2,
       "version_minor": 0
      },
      "text/plain": [
       "Evaluation Epoch 20:   0%|          | 0/67 [00:00<?, ?it/s]"
      ]
     },
     "metadata": {},
     "output_type": "display_data"
    },
    {
     "data": {
      "application/vnd.jupyter.widget-view+json": {
       "model_id": "363da934962644f091128efd7e9e59a7",
       "version_major": 2,
       "version_minor": 0
      },
      "text/plain": [
       "Evaluation Epoch 20:   0%|          | 0/67 [00:00<?, ?it/s]"
      ]
     },
     "metadata": {},
     "output_type": "display_data"
    },
    {
     "name": "stdout",
     "output_type": "stream",
     "text": [
      "Epoch 20: \tTrain Loss 7.408126 \tValid Loss 5.688152 \tAdversarial Loss 6.515583 \tMSE 181.832642 \tMAE 10.805691 \t\n"
     ]
    }
   ],
   "source": [
    "tqdm.write(\"Define model...\")\n",
    "model = ResNet1dGELU(input_dim=(12, 4096), n_classes=1, blocks_dim=[(64, 4096), (128, 1024), (196, 256), (256, 64), (320, 16)])#, kernel_size=3, dropout_rate=0.8\n",
    "\n",
    "if is_finetuning:\n",
    "    tqdm.write(\"Load pretrained model...\")\n",
    "    checkpoint = torch.load(pretrained_model_path, map_location=device)\n",
    "    model.load_state_dict(checkpoint['model'])\n",
    "\n",
    "model.to(device=device)\n",
    "tqdm.write(\"Done!\\n\")\n",
    "\n",
    "optimizer = torch.optim.AdamW(model.parameters(), lr=learning_rate, weight_decay=weight_decay)\n",
    "\n",
    "lr_scheduler = None #torch.optim.lr_scheduler.ReduceLROnPlateau(optimizer, mode='min', factor=0.1, patience=5, verbose=True)\n",
    "\n",
    "tqdm.write(\"Training...\")\n",
    "best_loss = np.Inf\n",
    "# allocation\n",
    "train_loss_all, valid_loss_all, adv_valid_loss_all = [], [], []\n",
    "mse_all, mae_all = [], []\n",
    "\n",
    "# loop over epochs\n",
    "for epoch in trange(1, num_epochs + 1):\n",
    "    # training loop\n",
    "    adversarial = False if epoch <= adversarial_delay else True\n",
    "    adv_eps = eps_values[epoch - adversarial_delay - 1] if epoch > adversarial_delay else 0\n",
    "\n",
    "    train_loss = train_loop_apgd(epoch, train_dataloader, model, optimizer, loss_function, device, adversarial=adversarial, adv_eps=adv_eps, adv_iters=10, adv_restarts=1)\n",
    "    # validation loop\n",
    "    valid_loss, y_pred, y_true = eval_loop_apgd(epoch, val_dataloader, model, loss_function, device)\n",
    "    adv_valid_loss, adv_y_pred, adv_y_true = eval_loop_apgd(epoch, val_dataloader, model, loss_function, device, adversarial=True, adv_eps=end_eps, adv_iters=10, adv_restarts=1)\n",
    "\n",
    "    # collect losses\n",
    "    train_loss_all.append(train_loss)\n",
    "    valid_loss_all.append(valid_loss)\n",
    "    adv_valid_loss_all.append(adv_valid_loss)\n",
    "\n",
    "    # compute validation metrics for performance evaluation\n",
    "    mse = mean_squared_error(y_true, y_pred)\n",
    "    mse_all.append(mse)\n",
    "\n",
    "    mae = mean_absolute_error(y_true, y_pred)\n",
    "    mae_all.append(mae)\n",
    "\n",
    "    # # save best model: here we save the model only for the lowest validation loss\n",
    "    if valid_loss < best_loss:\n",
    "        # Save model parameters\n",
    "        torch.save({'model': model.state_dict()}, output_model_path + '/best.pth') \n",
    "        # Update best validation loss\n",
    "        best_loss = valid_loss\n",
    "        # statement\n",
    "        model_save_state = \"Best model -> saved\"\n",
    "    else:\n",
    "        model_save_state = \"\"\n",
    "\n",
    "    torch.save({'model': model.state_dict()}, output_model_path + '/latest.pth') \n",
    "\n",
    "    # Print message\n",
    "    tqdm.write('Epoch {epoch:2d}: \\t'\n",
    "                'Train Loss {train_loss:.6f} \\t'\n",
    "                'Valid Loss {valid_loss:.6f} \\t'\n",
    "                'Adversarial Loss {adv_valid_loss:.6f} \\t'\n",
    "                'MSE {mse:.6f} \\t'\n",
    "               'MAE {mae:.6f} \\t'\n",
    "                '{model_save}'\n",
    "                .format(epoch=epoch,\n",
    "                        train_loss=train_loss,\n",
    "                        valid_loss=valid_loss,\n",
    "                        adv_valid_loss=adv_valid_loss,\n",
    "                        mse=mse,\n",
    "                        mae=mae,\n",
    "                        model_save=model_save_state))\n",
    "\n",
    "    # Update learning rate with lr-scheduler\n",
    "    if lr_scheduler:\n",
    "        lr_scheduler.step(valid_loss)"
   ]
  },
  {
   "cell_type": "code",
   "execution_count": 9,
   "metadata": {
    "editable": true,
    "slideshow": {
     "slide_type": ""
    },
    "tags": []
   },
   "outputs": [],
   "source": [
    "# Save the metrics to file together with the hyperparameters\n",
    "metrics = {'train_loss': train_loss_all,\n",
    "           'valid_loss': valid_loss_all,\n",
    "           'mse': mse_all,\n",
    "           'mae': mae_all,\n",
    "           'hyperparameters':\n",
    "               {'learning_rate': learning_rate,\n",
    "                'weight_decay': weight_decay,\n",
    "                'num_epochs': num_epochs,\n",
    "                'batch_size': batch_size,\n",
    "                'adversarial_delay': adversarial_delay,\n",
    "                'adv_eps': adv_eps,\n",
    "                'adv_alpha': adv_eps/5,\n",
    "                'adv_steps': 10}}\n",
    "\n",
    "torch.save(metrics, output_model_path + '/metrics.pth')"
   ]
  },
  {
   "cell_type": "code",
   "execution_count": 3,
   "metadata": {},
   "outputs": [
    {
     "data": {
      "image/png": "[encoded data removed]",
      "text/plain": [
       "<Figure size 1000x600 with 1 Axes>"
      ]
     },
     "metadata": {},
     "output_type": "display_data"
    }
   ],
   "source": [
    "# Load metrics for the three models and plot them\n",
    "plt.figure(figsize=(10, 6))\n",
    "\n",
    "for model_name in [\"../models/age/ptb_20\", \"../models/age/ptb_20_apgd_1e-2\", \"../models/age/ptb_20_apgd_5e-2\"]:\n",
    "    metrics = torch.load(model_name + '/metrics.pth')\n",
    "    plt.plot(metrics['valid_loss'], label=model_name)\n",
    "\n",
    "plt.xlabel('Epoch')\n",
    "plt.ylabel('Validation Loss')\n",
    "plt.legend()\n",
    "\n",
    "plt.show()\n",
    "    "
   ]
  }
 ],
 "metadata": {
  "accelerator": "GPU",
  "colab": {
   "collapsed_sections": [],
   "include_colab_link": true,
   "name": "assignment_ecg_classification.ipynb",
   "provenance": []
  },
  "kernelspec": {
   "display_name": "Python 3 (ipykernel)",
   "language": "python",
   "name": "python3"
  },
  "language_info": {
   "codemirror_mode": {
    "name": "ipython",
    "version": 3
   },
   "file_extension": ".py",
   "mimetype": "text/x-python",
   "name": "python",
   "nbconvert_exporter": "python",
   "pygments_lexer": "ipython3",
   "version": "3.9.18"
  }
 },
 "nbformat": 4,
 "nbformat_minor": 4
}
