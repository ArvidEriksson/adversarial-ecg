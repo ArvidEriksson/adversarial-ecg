{
 "cells": [
  {
   "cell_type": "code",
   "execution_count": 8,
   "metadata": {},
   "outputs": [],
   "source": [
    "import os\n",
    "\n",
    "# helper function\n",
    "def exists(path):\n",
    "    val = os.path.exists(path)\n",
    "    if val:\n",
    "        print(f'{path} already exits. Using cached. Delete it manually to recieve it again!')\n",
    "    return val"
   ]
  },
  {
   "cell_type": "code",
   "execution_count": 9,
   "metadata": {
    "id": "JkjZfvuKHd6q"
   },
   "outputs": [],
   "source": [
    "# Import\n",
    "import os\n",
    "from dataloader import BatchDataloader\n",
    "import torch\n",
    "import torch.nn as nn\n",
    "import numpy as np\n",
    "from tqdm.notebook import trange, tqdm\n",
    "import h5py\n",
    "from torch.utils.data import TensorDataset, random_split, DataLoader\n",
    "import pandas as pd\n",
    "import matplotlib.pyplot as plt\n",
    "from sklearn.metrics import roc_auc_score, average_precision_score, accuracy_score, f1_score\n",
    "from utils import pgd_attack, train_loop, eval_loop, train_loop_apgd\n",
    "import utils\n",
    "import ecg_plot\n",
    "from models import ResNet1d, ResNet1dGELU\n",
    "import ast\n",
    "%matplotlib inline"
   ]
  },
  {
   "cell_type": "code",
   "execution_count": 10,
   "metadata": {},
   "outputs": [
    {
     "name": "stdout",
     "output_type": "stream",
     "text": [
      "Use device: cuda\n",
      "\n"
     ]
    }
   ],
   "source": [
    "# Set device\n",
    "device = torch.device('cuda' if torch.cuda.is_available() else 'cpu')\n",
    "tqdm.write(\"Use device: {device:}\\n\".format(device=device))"
   ]
  },
  {
   "cell_type": "code",
   "execution_count": 11,
   "metadata": {},
   "outputs": [],
   "source": [
    "batch_size = 32"
   ]
  },
  {
   "cell_type": "code",
   "execution_count": 12,
   "metadata": {},
   "outputs": [
    {
     "name": "stdout",
     "output_type": "stream",
     "text": [
      "Len of train: 34583\n",
      "Len of test: 311196\n"
     ]
    },
    {
     "data": {
      "application/vnd.jupyter.widget-view+json": {
       "model_id": "fddef16a3b3c4954a19cf84db821311d",
       "version_major": 2,
       "version_minor": 0
      },
      "text/plain": [
       "  0%|          | 0/345779 [00:00<?, ?it/s]"
      ]
     },
     "metadata": {},
     "output_type": "display_data"
    }
   ],
   "source": [
    "# Load the data\n",
    "path_to_csv = 'code-15/exams.csv'\n",
    "path_to_h5 = 'code-15/full.h5'\n",
    "\n",
    "df = pd.read_csv(path_to_csv, index_col='exam_id')\n",
    "\n",
    "# Get h5 file\n",
    "h5_file = h5py.File(path_to_h5, 'r')\n",
    "traces_ids = (h5_file['exam_id'])\n",
    "\n",
    "# Only keep the traces in the csv that match the traces in the h5 file\n",
    "df = df[df.index.isin(traces_ids)]\n",
    "\n",
    "# Define traces\n",
    "traces = h5_file['tracings']\n",
    "\n",
    "# Sort the dataframe in trace order\n",
    "df = df.reindex(traces_ids)\n",
    "\n",
    "# Divide the data into train and test set (10/90), without overlapping patient ids\n",
    "patient_ids = df['patient_id'].unique()\n",
    "\n",
    "np.random.seed(42)\n",
    "np.random.shuffle(patient_ids)\n",
    "\n",
    "train_size = int(0.1 * len(patient_ids))\n",
    "train_patient_ids = patient_ids[:train_size]\n",
    "test_patient_ids = patient_ids[train_size:]\n",
    "\n",
    "train_df = df[df['patient_id'].isin(train_patient_ids)]\n",
    "test_df = df[df['patient_id'].isin(test_patient_ids)]\n",
    "\n",
    "# Len of train and test\n",
    "no_train = len(train_df)\n",
    "no_test = len(test_df)\n",
    "\n",
    "print(f'Len of train: {len(train_df)}')\n",
    "print(f'Len of test: {len(test_df)}') \n",
    "\n",
    "train_indices_to_keep = np.isin(df.index, train_df.index)\n",
    "test_indices_to_keep = np.isin(df.index, test_df.index)\n",
    "\n",
    "# Split the h5 file into train and test h5 files\n",
    "train_traces_indeces = h5_file['exam_id'][train_indices_to_keep]\n",
    "test_traces_indeces = h5_file['exam_id'][test_indices_to_keep]\n",
    "\n",
    "train_h5_file = h5py.File('code-15/train.h5', 'w')\n",
    "test_h5_file = h5py.File('code-15/test.h5', 'w')\n",
    "\n",
    "train_h5_file.create_dataset('exam_id', data=train_traces_indeces, dtype='i8')\n",
    "test_h5_file.create_dataset('exam_id', data=test_traces_indeces, dtype='i8')\n",
    "\n",
    "train_to_save = None\n",
    "test_to_save = None\n",
    "\n",
    "train_ind = 0\n",
    "test_ind = 0\n",
    "\n",
    "for i, trace in tqdm(enumerate(traces), total=len(traces)):\n",
    "    \n",
    "    \n",
    "    if train_indices_to_keep[i]:\n",
    "        \n",
    "        if train_to_save is None:\n",
    "            train_to_save = train_h5_file.create_dataset('tracings', (no_train,) + traces[0].shape, dtype='f8')\n",
    "            \n",
    "        train_to_save[train_ind] = trace\n",
    "        train_ind += 1\n",
    "        \n",
    "    if test_indices_to_keep[i]:\n",
    "        \n",
    "        if test_to_save is None:\n",
    "            test_to_save = test_h5_file.create_dataset('tracings', (no_test,) + traces[0].shape, dtype='f8')\n",
    "            \n",
    "        test_to_save[test_ind] = trace\n",
    "        test_ind += 1\n",
    "\n",
    "train_h5_file.close()\n",
    "test_h5_file.close()\n"
   ]
  },
  {
   "cell_type": "code",
   "execution_count": 15,
   "metadata": {},
   "outputs": [
    {
     "name": "stdout",
     "output_type": "stream",
     "text": [
      "Number of exam ids in train.h5: 34583\n",
      "Number of tracings in train.h5: 34583\n",
      "Number of exam ids in test.h5: 311196\n",
      "Number of tracings in test.h5: 311196\n"
     ]
    }
   ],
   "source": [
    "# Try opening train.h5 and count the number of traces\n",
    "train_h5_file = h5py.File('code-15/train.h5', 'r')\n",
    "print(f'Number of exam ids in train.h5: {len(train_h5_file[\"exam_id\"])}')\n",
    "print(f'Number of tracings in train.h5: {len(train_h5_file[\"tracings\"])}')\n",
    "train_h5_file.close()\n",
    "\n",
    "# Try opening test.h5 and count the number of traces\n",
    "test_h5_file = h5py.File('code-15/test.h5', 'r')\n",
    "print(f'Number of exam ids in test.h5: {len(test_h5_file[\"exam_id\"])}')\n",
    "print(f'Number of tracings in test.h5: {len(test_h5_file[\"tracings\"])}')\n",
    "test_h5_file.close()"
   ]
  }
 ],
 "metadata": {
  "accelerator": "GPU",
  "colab": {
   "collapsed_sections": [],
   "include_colab_link": true,
   "name": "assignment_ecg_classification.ipynb",
   "provenance": []
  },
  "kernelspec": {
   "display_name": "Python 3",
   "language": "python",
   "name": "python3"
  },
  "language_info": {
   "codemirror_mode": {
    "name": "ipython",
    "version": 3
   },
   "file_extension": ".py",
   "mimetype": "text/x-python",
   "name": "python",
   "nbconvert_exporter": "python",
   "pygments_lexer": "ipython3",
   "version": "3.9.18"
  }
 },
 "nbformat": 4,
 "nbformat_minor": 1
}
