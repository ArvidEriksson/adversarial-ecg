{
 "cells": [
  {
   "cell_type": "code",
   "execution_count": 1,
   "metadata": {
    "editable": true,
    "slideshow": {
     "slide_type": ""
    },
    "tags": []
   },
   "outputs": [],
   "source": [
    "import os\n",
    "\n",
    "# helper function\n",
    "def exists(path):\n",
    "    val = os.path.exists(path)\n",
    "    if val:\n",
    "        print(f'{path} already exits. Using cached. Delete it manually to recieve it again!')\n",
    "    return val"
   ]
  },
  {
   "cell_type": "code",
   "execution_count": 2,
   "metadata": {},
   "outputs": [],
   "source": [
    "# Import\n",
    "import os\n",
    "import torch\n",
    "import torch.nn as nn\n",
    "import numpy as np\n",
    "from tqdm.notebook import trange, tqdm\n",
    "import h5py\n",
    "from torch.utils.data import TensorDataset, random_split, DataLoader\n",
    "import pandas as pd\n",
    "import matplotlib.pyplot as plt\n",
    "from sklearn.metrics import roc_auc_score, average_precision_score, accuracy_score, f1_score\n",
    "from utils import pgd_attack\n",
    "import ecg_plot\n",
    "from models import ResNet1d\n",
    "import ast\n",
    "%matplotlib inline"
   ]
  },
  {
   "cell_type": "code",
   "execution_count": 3,
   "metadata": {},
   "outputs": [
    {
     "name": "stdout",
     "output_type": "stream",
     "text": [
      "Use device: cuda\n",
      "\n"
     ]
    }
   ],
   "source": [
    "# Set device\n",
    "device = torch.device('cuda' if torch.cuda.is_available() else 'cpu')\n",
    "tqdm.write(\"Use device: {device:}\\n\".format(device=device))"
   ]
  },
  {
   "cell_type": "code",
   "execution_count": 9,
   "metadata": {},
   "outputs": [],
   "source": [
    "# Load the data\n",
    "dataset_path = '/local_storage/users/arveri/ptb-xl'\n",
    "\n",
    "path_to_csv = dataset_path + '/ptbxl_database.csv'\n",
    "\n",
    "# Get labels\n",
    "df = pd.read_csv(path_to_csv, index_col='ecg_id')\n",
    "df_size = df.shape[0]\n",
    "# Remove all where age == 300\n",
    "df = df[df['age'] != 300]\n",
    "df_size_filtered = df.shape[0]\n",
    "print(f\"Filtered out {df_size - df_size_filtered} rows where age == 300\")\n",
    "\n",
    "validation_fold = 9\n",
    "test_fold = 10\n",
    "\n",
    "# Load labels\n",
    "train = df[(df.strat_fold != validation_fold) & (df.strat_fold != test_fold)]\n",
    "val = df[df.strat_fold == validation_fold]\n",
    "test = df[df.strat_fold == test_fold]\n",
    "\n",
    "f_names_train = train['filename_hr']\n",
    "f_names_val = val['filename_hr']\n",
    "f_names_test = test['filename_hr']\n",
    "\n",
    "# Save the file names for the train, validation and test set in RECORDS_train.txt, RECORDS_val.txt and RECORDS_test.txt\n",
    "with open(dataset_path + '/RECORDS_train_age.txt', 'w') as f:\n",
    "    for s in f_names_train.values:\n",
    "        f.write(s + '\\n')\n",
    "        \n",
    "with open(dataset_path + '/RECORDS_val_age.txt', 'w') as f:\n",
    "    for s in f_names_val.values:\n",
    "        f.write(s + '\\n')\n",
    "        \n",
    "with open(dataset_path + '/RECORDS_test_age.txt', 'w') as f:\n",
    "    for s in f_names_test.values:\n",
    "        f.write(s + '\\n')"
   ]
  },
  {
   "cell_type": "code",
   "execution_count": 10,
   "metadata": {},
   "outputs": [
    {
     "name": "stdout",
     "output_type": "stream",
     "text": [
      "Namespace(input_file='ptb-xl/RECORDS_train.txt', out_file='ptb-xl/train.h5', root_dir=None, new_freq=400.0, new_len=4096, scale=1, use_all_leads=True, remove_baseline=True, remove_powerline=60.0, fmt='wfdb')\n",
      "100%|█████████████████████████████████████| 17418/17418 [03:01<00:00, 95.79it/s]\n",
      "Namespace(input_file='ptb-xl/RECORDS_val.txt', out_file='ptb-xl/val.h5', root_dir=None, new_freq=400.0, new_len=4096, scale=1, use_all_leads=True, remove_baseline=True, remove_powerline=60.0, fmt='wfdb')\n",
      "100%|██████████████████████████████████████| 2183/2183 [00:21<00:00, 103.25it/s]\n",
      "Namespace(input_file='ptb-xl/RECORDS_test.txt', out_file='ptb-xl/test.h5', root_dir=None, new_freq=400.0, new_len=4096, scale=1, use_all_leads=True, remove_baseline=True, remove_powerline=60.0, fmt='wfdb')\n",
      "100%|██████████████████████████████████████| 2198/2198 [00:21<00:00, 104.03it/s]\n"
     ]
    }
   ],
   "source": [
    "if not exists(dataset_path + '/train_age.h5'):\n",
    "    !python ecg-preprocessing/generate_h5.py --new_freq 400 --new_len 4096 --remove_baseline --use_all_leads --remove_powerline 60 ptb-xl/RECORDS_train.txt /local_storage/users/arveri/ptb-xl/train_age.h5\n",
    "    \n",
    "if not exists(dataset_path + '/val_age.h5'):\n",
    "    !python ecg-preprocessing/generate_h5.py --new_freq 400 --new_len 4096 --remove_baseline --use_all_leads --remove_powerline 60 ptb-xl/RECORDS_val.txt /local_storage/users/arveri/ptb-xl/val_age.h5\n",
    "    \n",
    "if not exists(dataset_path + '/test_age.h5'):\n",
    "    !python ecg-preprocessing/generate_h5.py --new_freq 400 --new_len 4096 --remove_baseline --use_all_leads --remove_powerline 60 ptb-xl/RECORDS_test.txt /local_storage/users/arveri/ptb-xl/test_age.h5"
   ]
  }
 ],
 "metadata": {
  "kernelspec": {
   "display_name": "Python 3 (ipykernel)",
   "language": "python",
   "name": "python3"
  },
  "language_info": {
   "codemirror_mode": {
    "name": "ipython",
    "version": 3
   },
   "file_extension": ".py",
   "mimetype": "text/x-python",
   "name": "python",
   "nbconvert_exporter": "python",
   "pygments_lexer": "ipython3",
   "version": "3.9.18"
  }
 },
 "nbformat": 4,
 "nbformat_minor": 4
}
